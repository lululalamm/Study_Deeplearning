{
 "cells": [
  {
   "cell_type": "code",
   "execution_count": 4,
   "metadata": {},
   "outputs": [],
   "source": [
    "import torch\n",
    "import torch.nn as nn\n",
    "import torch.nn.functional as F"
   ]
  },
  {
   "cell_type": "raw",
   "metadata": {},
   "source": [
    "16 conv, 3 fc\n",
    "conv stride fixed 1\n",
    "3x3 conv 뒤에 spatial padding 1 적용\n",
    "receptive field kernel 3x3\n",
    "conv 몇몇 뒤에 max pooling kernel 2x2 stride 2\n",
    "fully 4096 4096 1000 \n",
    "모든 hidden layer 에 relu "
   ]
  },
  {
   "cell_type": "raw",
   "metadata": {},
   "source": [
    "input image 224x224x3\n",
    "\n",
    "in: 3x3x64 out: 224x224x64 *2\n",
    "max pooling 2x2 stride 2\n",
    "\n",
    "in: 3x3x128 out: 112x112x128 *2\n",
    "max pooling 2x2 stride 2\n",
    "\n",
    "in: 3x3x256 out: 56x56x256 *3\n",
    "max pooling 2x2 stride 2\n",
    "\n",
    "in: 3x3x512 out: 28x28x512 *3\n",
    "max pooling 2x2 stride 2\n",
    "\n",
    "in: 3x3x512 out: 14x14x512 *3\n",
    "max pooling 2x2 stride 2 out: 7x7x512\n",
    "\n",
    "fully 4096\n",
    "fully 4096\n",
    "fully 1000 (classes)\n",
    "\n",
    "softmax\n"
   ]
  },
  {
   "cell_type": "code",
   "execution_count": 5,
   "metadata": {},
   "outputs": [],
   "source": [
    "def conv_block(in_list,out_list,k_list,p_list,pooling_k, pooling_s):\n",
    "    conv_list=[] \n",
    "    for i in range(len(in_list)):\n",
    "        conv = nn.Sequential(\n",
    "            nn.Conv2d(in_list[i],out_list[i],kernel_size=k_list[i],padding=p_list[i]),\n",
    "            nn.ReLU()\n",
    "        )\n",
    "        conv_list.append(conv)\n",
    "    conv_list.append(nn.MaxPool2d(pooling_k,pooling_s))\n",
    "        \n",
    "    return nn.Sequential(*conv_list)    "
   ]
  },
  {
   "cell_type": "code",
   "execution_count": 6,
   "metadata": {},
   "outputs": [],
   "source": [
    "def fc_block(in_size,out_size):\n",
    "    fc = nn.Sequential(\n",
    "        nn.Linear(in_size,out_size),\n",
    "        nn.ReLU()\n",
    "    )\n",
    "    \n",
    "    return fc"
   ]
  },
  {
   "cell_type": "code",
   "execution_count": 28,
   "metadata": {},
   "outputs": [],
   "source": [
    "class VGG(nn.Module):\n",
    "    def __init__(self,num_classes):\n",
    "        super(VGG,self).__init__()\n",
    "        \n",
    "        self.conv1 = conv_block([3,64],[64,64],[3,3],[1,1],2,2)\n",
    "        self.conv2 = conv_block([64,128],[128,128],[3,3],[1,1],2,2)\n",
    "        self.conv3 = conv_block([128,256,256],[256,256,256],[3,3,3],[1,1,2],2,2)\n",
    "        self.conv4 = conv_block([256,512,512],[512,512,512],[3,3,3],[1,1,1],2,2)\n",
    "        self.conv5 = conv_block([512,512,512],[512,512,512],[3,3,3],[1,1,1],2,2)\n",
    "        \n",
    "        self.fc1 = fc_block(7*7*512,4096)\n",
    "        self.fc2 = fc_block(4096,4096)\n",
    "        self.out_fc = fc_block(4096,num_classes)\n",
    "        \n",
    "    def forward(self,x):\n",
    "        \n",
    "        x = self.conv1(x)\n",
    "        x = self.conv2(x)\n",
    "        x = self.conv3(x)\n",
    "        x = self.conv4(x)\n",
    "        x = self.conv5(x)\n",
    "        \n",
    "        x = torch.flatten(x)\n",
    "        #x = x.view(x.size(0),-1)\n",
    "        \n",
    "        x = self.fc1(x)\n",
    "        x = self.fc2(x)\n",
    "        x = self.out_fc(x)\n",
    "        \n",
    "        return x"
   ]
  },
  {
   "cell_type": "code",
   "execution_count": 29,
   "metadata": {},
   "outputs": [],
   "source": [
    "model = VGG(num_classes=16)"
   ]
  },
  {
   "cell_type": "code",
   "execution_count": 30,
   "metadata": {},
   "outputs": [
    {
     "data": {
      "text/plain": [
       "VGG(\n",
       "  (conv1): Sequential(\n",
       "    (0): Sequential(\n",
       "      (0): Conv2d(3, 64, kernel_size=(3, 3), stride=(1, 1), padding=(1, 1))\n",
       "      (1): ReLU()\n",
       "    )\n",
       "    (1): Sequential(\n",
       "      (0): Conv2d(64, 64, kernel_size=(3, 3), stride=(1, 1), padding=(1, 1))\n",
       "      (1): ReLU()\n",
       "    )\n",
       "    (2): MaxPool2d(kernel_size=2, stride=2, padding=0, dilation=1, ceil_mode=False)\n",
       "  )\n",
       "  (conv2): Sequential(\n",
       "    (0): Sequential(\n",
       "      (0): Conv2d(64, 128, kernel_size=(3, 3), stride=(1, 1), padding=(1, 1))\n",
       "      (1): ReLU()\n",
       "    )\n",
       "    (1): Sequential(\n",
       "      (0): Conv2d(128, 128, kernel_size=(3, 3), stride=(1, 1), padding=(1, 1))\n",
       "      (1): ReLU()\n",
       "    )\n",
       "    (2): MaxPool2d(kernel_size=2, stride=2, padding=0, dilation=1, ceil_mode=False)\n",
       "  )\n",
       "  (conv3): Sequential(\n",
       "    (0): Sequential(\n",
       "      (0): Conv2d(128, 256, kernel_size=(3, 3), stride=(1, 1), padding=(1, 1))\n",
       "      (1): ReLU()\n",
       "    )\n",
       "    (1): Sequential(\n",
       "      (0): Conv2d(256, 256, kernel_size=(3, 3), stride=(1, 1), padding=(1, 1))\n",
       "      (1): ReLU()\n",
       "    )\n",
       "    (2): Sequential(\n",
       "      (0): Conv2d(256, 256, kernel_size=(3, 3), stride=(1, 1), padding=(2, 2))\n",
       "      (1): ReLU()\n",
       "    )\n",
       "    (3): MaxPool2d(kernel_size=2, stride=2, padding=0, dilation=1, ceil_mode=False)\n",
       "  )\n",
       "  (conv4): Sequential(\n",
       "    (0): Sequential(\n",
       "      (0): Conv2d(256, 512, kernel_size=(3, 3), stride=(1, 1), padding=(1, 1))\n",
       "      (1): ReLU()\n",
       "    )\n",
       "    (1): Sequential(\n",
       "      (0): Conv2d(512, 512, kernel_size=(3, 3), stride=(1, 1), padding=(1, 1))\n",
       "      (1): ReLU()\n",
       "    )\n",
       "    (2): Sequential(\n",
       "      (0): Conv2d(512, 512, kernel_size=(3, 3), stride=(1, 1), padding=(1, 1))\n",
       "      (1): ReLU()\n",
       "    )\n",
       "    (3): MaxPool2d(kernel_size=2, stride=2, padding=0, dilation=1, ceil_mode=False)\n",
       "  )\n",
       "  (conv5): Sequential(\n",
       "    (0): Sequential(\n",
       "      (0): Conv2d(512, 512, kernel_size=(3, 3), stride=(1, 1), padding=(1, 1))\n",
       "      (1): ReLU()\n",
       "    )\n",
       "    (1): Sequential(\n",
       "      (0): Conv2d(512, 512, kernel_size=(3, 3), stride=(1, 1), padding=(1, 1))\n",
       "      (1): ReLU()\n",
       "    )\n",
       "    (2): Sequential(\n",
       "      (0): Conv2d(512, 512, kernel_size=(3, 3), stride=(1, 1), padding=(1, 1))\n",
       "      (1): ReLU()\n",
       "    )\n",
       "    (3): MaxPool2d(kernel_size=2, stride=2, padding=0, dilation=1, ceil_mode=False)\n",
       "  )\n",
       "  (fc1): Sequential(\n",
       "    (0): Linear(in_features=25088, out_features=4096, bias=True)\n",
       "    (1): ReLU()\n",
       "  )\n",
       "  (fc2): Sequential(\n",
       "    (0): Linear(in_features=4096, out_features=4096, bias=True)\n",
       "    (1): ReLU()\n",
       "  )\n",
       "  (out_fc): Sequential(\n",
       "    (0): Linear(in_features=4096, out_features=16, bias=True)\n",
       "    (1): ReLU()\n",
       "  )\n",
       ")"
      ]
     },
     "execution_count": 30,
     "metadata": {},
     "output_type": "execute_result"
    }
   ],
   "source": [
    "model"
   ]
  },
  {
   "cell_type": "code",
   "execution_count": null,
   "metadata": {},
   "outputs": [],
   "source": []
  }
 ],
 "metadata": {
  "kernelspec": {
   "display_name": "Python 3",
   "language": "python",
   "name": "python3"
  },
  "language_info": {
   "codemirror_mode": {
    "name": "ipython",
    "version": 3
   },
   "file_extension": ".py",
   "mimetype": "text/x-python",
   "name": "python",
   "nbconvert_exporter": "python",
   "pygments_lexer": "ipython3",
   "version": "3.6.9"
  }
 },
 "nbformat": 4,
 "nbformat_minor": 4
}
