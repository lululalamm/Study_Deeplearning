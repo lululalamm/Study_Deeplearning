{
 "cells": [
  {
   "cell_type": "code",
   "execution_count": 36,
   "metadata": {},
   "outputs": [],
   "source": [
    "import torch\n",
    "import torch.nn as nn\n",
    "import torch.nn.functional as F"
   ]
  },
  {
   "cell_type": "code",
   "execution_count": 37,
   "metadata": {},
   "outputs": [],
   "source": [
    "class Inception_aux(nn.Module):\n",
    "    def __init__(self,in_channel,num_output):\n",
    "        super(Inception_aux,self).__init__()\n",
    "        \n",
    "        self.aux = nn.Sequential(\n",
    "            nn.AvgPool2d(kernel_size=5,stride=3),\n",
    "            Conv(in_channel,128,kernel_size=1),\n",
    "            nn.ReLU(),\n",
    "            nn.Linear(4*4*128,1024),\n",
    "            nn.Dropout(p=0.7),\n",
    "            nn.Linear(1024,num_output)\n",
    "        )\n",
    "        \n",
    "    def forward(self,x):\n",
    "        x = self.aux(x)\n",
    "        return x"
   ]
  },
  {
   "cell_type": "code",
   "execution_count": 38,
   "metadata": {},
   "outputs": [],
   "source": [
    "class Conv(nn.Module):\n",
    "    def __init__(self,in_channel, out_channel,**kwargs):\n",
    "        super(Conv,self).__init__()\n",
    "        \n",
    "        self.conv = nn.Sequential(\n",
    "            nn.Conv2d(in_channel,out_channel,**kwargs),\n",
    "            nn.BatchNorm2d(out_channel),\n",
    "            nn.ReLU()\n",
    "        )"
   ]
  },
  {
   "cell_type": "code",
   "execution_count": 39,
   "metadata": {},
   "outputs": [],
   "source": [
    "class InceptionV1(nn.Module):\n",
    "    \n",
    "    def __init__(self,in_channel,out_1,in_3,out_3,in_5,out_5,out_pooling):\n",
    "        super(InceptionV1,self).__init__()\n",
    "        \n",
    "        self.branch_1 = Conv(in_channel,out_1,kernel_size=1)\n",
    "        self.branch_2 = nn.Sequential(\n",
    "            Conv(in_channel,in_3,kernel_size=1),\n",
    "            Conv(in_3,out_3,kernel_size=3)\n",
    "        )\n",
    "        self.branch_3 = nn.Sequential(\n",
    "            Conv(in_channel,in_5,kernel_size=1),\n",
    "            Conv(in_5,out_5,kenel_size=5)\n",
    "        )\n",
    "        self.branch_4 = nn.Sequential(\n",
    "            nn.MaxPool2d(kernel_size=3,stride=1),\n",
    "            Conv(in_channel,out_pooling,kernel_size=1)\n",
    "        )\n",
    "        \n",
    "    def forward(self,x):\n",
    "        x = torch.cat([self.branch_1,self.branch_2,self.branch_3,self.branch_4],1)\n",
    "        return x"
   ]
  },
  {
   "cell_type": "code",
   "execution_count": 44,
   "metadata": {},
   "outputs": [],
   "source": [
    "class GoogleNet(nn.Module):\n",
    "    def __init__(self,num_classes,aux_flag=True):\n",
    "        super(GoogleNet,self).__init__()\n",
    "        # input image 224*224\n",
    "        self.conv1 = nn.Conv2d(3,64,kernel_size=7,stride=2,padding=3)\n",
    "        self.maxpool1 = nn.MaxPool2d(kernel_size=3,stride=2)\n",
    "        self.conv2 = nn.Conv2d(64,192,kernel_size=3,stride=1)\n",
    "        self.maxpool2 = nn.MaxPool2d(kernel_size=3,stride=2)\n",
    "        \n",
    "        self.inception3a = InceptionV1(192,64,96,128,16,32,32)\n",
    "        self.inception3b = InceptionV1(256,64,96,128,16,32,32)\n",
    "        \n",
    "        self.maxpool3 = nn.MaxPool2d(kernel_size=3,stride=2)\n",
    "        \n",
    "        self.inception4a = InceptionV1(480,192,96,208,16,48,64)\n",
    "        \n",
    "        self.inception4b = InceptionV1(512,160,112,224,24,64,64)\n",
    "        self.inception4c = InceptionV1(512,128,128,256,24,64,64)\n",
    "        self.inception4d = InceptionV1(512,112,144,288,32,64,64)\n",
    "        self.inception4e = InceptionV1(528,256,160,320,32,128,128)\n",
    "        \n",
    "        self.maxpool4 = nn.MaxPool2d(kernel_size=3,stride=2)\n",
    "        \n",
    "        self.inception5a = InceptionV1(832,256,160,320,32,128,128)\n",
    "        self.inception5b = InceptionV1(832,384,192,384,48,128,128)\n",
    "        \n",
    "        self.avgpool = nn.AvgPool2d(kernel_size=7,stride=1)\n",
    "        self.dropout = nn.Dropout(p=0.4)\n",
    "        self.linear = nn.Linear(1024,num_classes)\n",
    "        \n",
    "        if self.aux_flag:\n",
    "            self.aux4a = Inception_aux(512,num_classes)\n",
    "            self.aux4d = Inception_aux(528,num_classes)\n",
    "        \n",
    "    def forward(self,x):\n",
    "        \n",
    "        x = self.conv1(x)\n",
    "        x = self.maxpool1(x)\n",
    "        x = self.conv2(x)\n",
    "        x = self.maxpool2(x)\n",
    "        x = self.inception3a(x)\n",
    "        x = self.inception3b(x)\n",
    "        x = self.maxpool3(x)\n",
    "        x = self.inception4a(x)\n",
    "        if self.aux_flag:\n",
    "            aux1 = self.aux4a(x)\n",
    "        x = self.inception4b(x)\n",
    "        x = self.inception4c(x)\n",
    "        x = self.inception4d(x)\n",
    "        if self.aux_flag:\n",
    "            aux2 = self.aux4d(x)\n",
    "        x = self.inception4e(x)\n",
    "        x = self.maxpool4(x)\n",
    "        x = self.inception5a(x)\n",
    "        x = self.inception5b(x)\n",
    "        x = self.avgpool(x)\n",
    "        x = self.dropout(x)\n",
    "        x = self.linear(x)\n",
    "        \n",
    "        if self.aux_flag:\n",
    "            return x, aux1, aux2\n",
    "        else:\n",
    "            return x"
   ]
  },
  {
   "cell_type": "code",
   "execution_count": 45,
   "metadata": {},
   "outputs": [
    {
     "ename": "TypeError",
     "evalue": "__init__() got an unexpected keyword argument 'kenel_size'",
     "output_type": "error",
     "traceback": [
      "\u001b[0;31m---------------------------------------------------------------------------\u001b[0m",
      "\u001b[0;31mTypeError\u001b[0m                                 Traceback (most recent call last)",
      "\u001b[0;32m<ipython-input-45-792e62cd1a7b>\u001b[0m in \u001b[0;36m<module>\u001b[0;34m\u001b[0m\n\u001b[0;32m----> 1\u001b[0;31m \u001b[0mnet\u001b[0m \u001b[0;34m=\u001b[0m \u001b[0mGoogleNet\u001b[0m\u001b[0;34m(\u001b[0m\u001b[0;36m1000\u001b[0m\u001b[0;34m,\u001b[0m\u001b[0;32mTrue\u001b[0m\u001b[0;34m)\u001b[0m\u001b[0;34m\u001b[0m\u001b[0;34m\u001b[0m\u001b[0m\n\u001b[0m",
      "\u001b[0;32m<ipython-input-44-8e45ee655fb6>\u001b[0m in \u001b[0;36m__init__\u001b[0;34m(self, num_classes, aux_flag)\u001b[0m\n\u001b[1;32m      8\u001b[0m         \u001b[0mself\u001b[0m\u001b[0;34m.\u001b[0m\u001b[0mmaxpool2\u001b[0m \u001b[0;34m=\u001b[0m \u001b[0mnn\u001b[0m\u001b[0;34m.\u001b[0m\u001b[0mMaxPool2d\u001b[0m\u001b[0;34m(\u001b[0m\u001b[0mkernel_size\u001b[0m\u001b[0;34m=\u001b[0m\u001b[0;36m3\u001b[0m\u001b[0;34m,\u001b[0m\u001b[0mstride\u001b[0m\u001b[0;34m=\u001b[0m\u001b[0;36m2\u001b[0m\u001b[0;34m)\u001b[0m\u001b[0;34m\u001b[0m\u001b[0;34m\u001b[0m\u001b[0m\n\u001b[1;32m      9\u001b[0m \u001b[0;34m\u001b[0m\u001b[0m\n\u001b[0;32m---> 10\u001b[0;31m         \u001b[0mself\u001b[0m\u001b[0;34m.\u001b[0m\u001b[0minception3a\u001b[0m \u001b[0;34m=\u001b[0m \u001b[0mInceptionV1\u001b[0m\u001b[0;34m(\u001b[0m\u001b[0;36m192\u001b[0m\u001b[0;34m,\u001b[0m\u001b[0;36m64\u001b[0m\u001b[0;34m,\u001b[0m\u001b[0;36m96\u001b[0m\u001b[0;34m,\u001b[0m\u001b[0;36m128\u001b[0m\u001b[0;34m,\u001b[0m\u001b[0;36m16\u001b[0m\u001b[0;34m,\u001b[0m\u001b[0;36m32\u001b[0m\u001b[0;34m,\u001b[0m\u001b[0;36m32\u001b[0m\u001b[0;34m)\u001b[0m\u001b[0;34m\u001b[0m\u001b[0;34m\u001b[0m\u001b[0m\n\u001b[0m\u001b[1;32m     11\u001b[0m         \u001b[0mself\u001b[0m\u001b[0;34m.\u001b[0m\u001b[0minception3b\u001b[0m \u001b[0;34m=\u001b[0m \u001b[0mInceptionV1\u001b[0m\u001b[0;34m(\u001b[0m\u001b[0;36m256\u001b[0m\u001b[0;34m,\u001b[0m\u001b[0;36m64\u001b[0m\u001b[0;34m,\u001b[0m\u001b[0;36m96\u001b[0m\u001b[0;34m,\u001b[0m\u001b[0;36m128\u001b[0m\u001b[0;34m,\u001b[0m\u001b[0;36m16\u001b[0m\u001b[0;34m,\u001b[0m\u001b[0;36m32\u001b[0m\u001b[0;34m,\u001b[0m\u001b[0;36m32\u001b[0m\u001b[0;34m)\u001b[0m\u001b[0;34m\u001b[0m\u001b[0;34m\u001b[0m\u001b[0m\n\u001b[1;32m     12\u001b[0m \u001b[0;34m\u001b[0m\u001b[0m\n",
      "\u001b[0;32m<ipython-input-39-71bc154ffb3a>\u001b[0m in \u001b[0;36m__init__\u001b[0;34m(self, in_channel, out_1, in_3, out_3, in_5, out_5, out_pooling)\u001b[0m\n\u001b[1;32m     11\u001b[0m         self.branch_3 = nn.Sequential(\n\u001b[1;32m     12\u001b[0m             \u001b[0mConv\u001b[0m\u001b[0;34m(\u001b[0m\u001b[0min_channel\u001b[0m\u001b[0;34m,\u001b[0m\u001b[0min_5\u001b[0m\u001b[0;34m,\u001b[0m\u001b[0mkernel_size\u001b[0m\u001b[0;34m=\u001b[0m\u001b[0;36m1\u001b[0m\u001b[0;34m)\u001b[0m\u001b[0;34m,\u001b[0m\u001b[0;34m\u001b[0m\u001b[0;34m\u001b[0m\u001b[0m\n\u001b[0;32m---> 13\u001b[0;31m             \u001b[0mConv\u001b[0m\u001b[0;34m(\u001b[0m\u001b[0min_5\u001b[0m\u001b[0;34m,\u001b[0m\u001b[0mout_5\u001b[0m\u001b[0;34m,\u001b[0m\u001b[0mkenel_size\u001b[0m\u001b[0;34m=\u001b[0m\u001b[0;36m5\u001b[0m\u001b[0;34m)\u001b[0m\u001b[0;34m\u001b[0m\u001b[0;34m\u001b[0m\u001b[0m\n\u001b[0m\u001b[1;32m     14\u001b[0m         )\n\u001b[1;32m     15\u001b[0m         self.branch_4 = nn.Sequential(\n",
      "\u001b[0;32m<ipython-input-38-a3a86070b4c5>\u001b[0m in \u001b[0;36m__init__\u001b[0;34m(self, in_channel, out_channel, **kwargs)\u001b[0m\n\u001b[1;32m      4\u001b[0m \u001b[0;34m\u001b[0m\u001b[0m\n\u001b[1;32m      5\u001b[0m         self.conv = nn.Sequential(\n\u001b[0;32m----> 6\u001b[0;31m             \u001b[0mnn\u001b[0m\u001b[0;34m.\u001b[0m\u001b[0mConv2d\u001b[0m\u001b[0;34m(\u001b[0m\u001b[0min_channel\u001b[0m\u001b[0;34m,\u001b[0m\u001b[0mout_channel\u001b[0m\u001b[0;34m,\u001b[0m\u001b[0;34m**\u001b[0m\u001b[0mkwargs\u001b[0m\u001b[0;34m)\u001b[0m\u001b[0;34m,\u001b[0m\u001b[0;34m\u001b[0m\u001b[0;34m\u001b[0m\u001b[0m\n\u001b[0m\u001b[1;32m      7\u001b[0m             \u001b[0mnn\u001b[0m\u001b[0;34m.\u001b[0m\u001b[0mBatchNorm2d\u001b[0m\u001b[0;34m(\u001b[0m\u001b[0mout_channel\u001b[0m\u001b[0;34m)\u001b[0m\u001b[0;34m,\u001b[0m\u001b[0;34m\u001b[0m\u001b[0;34m\u001b[0m\u001b[0m\n\u001b[1;32m      8\u001b[0m             \u001b[0mnn\u001b[0m\u001b[0;34m.\u001b[0m\u001b[0mReLU\u001b[0m\u001b[0;34m(\u001b[0m\u001b[0;34m)\u001b[0m\u001b[0;34m\u001b[0m\u001b[0;34m\u001b[0m\u001b[0m\n",
      "\u001b[0;31mTypeError\u001b[0m: __init__() got an unexpected keyword argument 'kenel_size'"
     ]
    }
   ],
   "source": [
    "net = GoogleNet(1000,True)"
   ]
  },
  {
   "cell_type": "code",
   "execution_count": null,
   "metadata": {},
   "outputs": [],
   "source": []
  }
 ],
 "metadata": {
  "kernelspec": {
   "display_name": "Python 3",
   "language": "python",
   "name": "python3"
  },
  "language_info": {
   "codemirror_mode": {
    "name": "ipython",
    "version": 3
   },
   "file_extension": ".py",
   "mimetype": "text/x-python",
   "name": "python",
   "nbconvert_exporter": "python",
   "pygments_lexer": "ipython3",
   "version": "3.6.9"
  }
 },
 "nbformat": 4,
 "nbformat_minor": 4
}
