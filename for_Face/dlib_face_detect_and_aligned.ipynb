{
 "cells": [
  {
   "cell_type": "code",
   "execution_count": null,
   "metadata": {},
   "outputs": [],
   "source": [
    "import dlib\n",
    "import cv2\n",
    "import os\n",
    "import numpy as np\n",
    "\n",
    "import matplotlib.pyplot as plt\n",
    "\n",
    "import imghdr"
   ]
  },
  {
   "cell_type": "code",
   "execution_count": null,
   "metadata": {},
   "outputs": [],
   "source": [
    "def makedir(path):\n",
    "    if not os.path.exists(path):\n",
    "        os.mkdir(path)"
   ]
  },
  {
   "cell_type": "code",
   "execution_count": null,
   "metadata": {},
   "outputs": [],
   "source": [
    "def show(img,convert=True,figsize=5,show=True):\n",
    "    if type(img)==str:\n",
    "        img_read = cv2.imread(img)\n",
    "    else:\n",
    "        img_read = img\n",
    "        \n",
    "    if convert:   \n",
    "        img_read = cv2.cvtColor(img_read,cv2.COLOR_BGR2RGB)\n",
    "    \n",
    "    if show:\n",
    "        figure = plt.figure(figsize=(figsize,figsize))\n",
    "        plt.imshow(img_read)\n",
    "        plt.show()\n",
    "    \n",
    "    return img_read"
   ]
  },
  {
   "cell_type": "code",
   "execution_count": null,
   "metadata": {},
   "outputs": [],
   "source": [
    "predictor_path = \"./shape_predictor_5_face_landmarks.dat\""
   ]
  },
  {
   "cell_type": "code",
   "execution_count": null,
   "metadata": {},
   "outputs": [],
   "source": [
    "base = \"base_directory/\"\n",
    "\n",
    "not_save_txt = base+\"not_saved.txt\"\n",
    "not_detect_txt = base+\"not_detected.txt\""
   ]
  },
  {
   "cell_type": "code",
   "execution_count": null,
   "metadata": {},
   "outputs": [],
   "source": [
    "save_base = \"save_directory/\"\n",
    "make_dir(save_base)"
   ]
  },
  {
   "cell_type": "code",
   "execution_count": null,
   "metadata": {},
   "outputs": [],
   "source": [
    "sp = dlib.shape_predictor(predictor_path)\n",
    "detector = dlib.get_frontal_face_detector()"
   ]
  },
  {
   "cell_type": "code",
   "execution_count": null,
   "metadata": {},
   "outputs": [],
   "source": [
    "img_path = \"image_path\"\n",
    "img_type = imghdr.what(img_path)\n",
    "\n",
    "if img_type=='gif':\n",
    "    with open(not_save_txt,'a') as f:\n",
    "        f.writelines(\"gif type: \"+img_path+\"\\n\")\n",
    "    continue    \n",
    "            \n",
    "if cv2.imread(img_path) is None:\n",
    "    with open(not_save_txt,'a') as f:\n",
    "        f.writelines(\"None: \"+img_path+\"\\n\")\n",
    "    continue\n",
    "        \n",
    "img_read = dlib.load_rgb_image(img_path)\n",
    "        \n",
    "        \n",
    "# left top right bottom\n",
    "dets = detector(img_read)\n",
    "        \n",
    "if not dets:\n",
    "    with open(not_detect_txt,'a') as f:\n",
    "        f.writelines(\"not detect: \"+img_path+\"\\n\")\n",
    "    continue\n",
    "        \n",
    "faces = dlib.full_object_detections()\n",
    "for detection in dets:\n",
    "    faces.append(sp(img_read, detection))\n",
    "        \n",
    "images = dlib.get_face_chips(img_read, faces)[0]\n",
    "save_img = cv2.cvtColor(images,cv2.COLOR_RGB2BGR)\n",
    "        \n",
    "save_path = \"save_path\"\n",
    "        \n",
    "cv2.imwrite(save_path,save_img)"
   ]
  }
 ],
 "metadata": {
  "kernelspec": {
   "display_name": "Python 3",
   "language": "python",
   "name": "python3"
  },
  "language_info": {
   "codemirror_mode": {
    "name": "ipython",
    "version": 3
   },
   "file_extension": ".py",
   "mimetype": "text/x-python",
   "name": "python",
   "nbconvert_exporter": "python",
   "pygments_lexer": "ipython3",
   "version": "3.6.9"
  }
 },
 "nbformat": 4,
 "nbformat_minor": 4
}
