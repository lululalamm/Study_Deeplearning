{
 "cells": [
  {
   "cell_type": "code",
   "execution_count": 3,
   "metadata": {},
   "outputs": [],
   "source": [
    "import torch\n",
    "import torch.nn as nn\n",
    "import torch.nn.functional as F"
   ]
  },
  {
   "cell_type": "code",
   "execution_count": null,
   "metadata": {},
   "outputs": [],
   "source": [
    "class AlexNet(nn.Module):\n",
    "    \n",
    "    def __init__(self, num_classes=1000):\n",
    "        super(AlexNet,self).__init__()\n",
    "        \n",
    "        self.conv = nn.Sequential(\n",
    "            # conv1\n",
    "            nn.Conv2d(in_channels=3,out_channels=96,kernel_size=11,stride=4)\n",
    "            nn.ReLU(),\n",
    "            nn.LocalResponseNorm(size=5,k=2,alpha=10e-4,beta=0.75),\n",
    "            nn.MaxPool2d(kernel_size=3,stride=2),\n",
    "            \n",
    "            # conv2\n",
    "            nn.Conv2d(in_channels=96,out_channels=256,kernel_size=5,stride=1,padding=2)\n",
    "            nn.ReLU(),\n",
    "            nn.LocalResponseNorm(size=5,k=2,alpha=10e-4,beta=0.75),\n",
    "            nn.MaxPool2d(kernel_size=3,stride=2),\n",
    "            \n",
    "            # conv3\n",
    "            nn.Conv2d(in_channels=256,out_channels=384,kernel_size=3,stride=1,padding=1),\n",
    "            nn.ReLU(),\n",
    "            # conv4\n",
    "            nn.Conv2d(in_channels=384,out_channels=384,kernel_size=3,stride=1,padding=1),\n",
    "            nn.ReLU(),\n",
    "            # conv5\n",
    "            nn.Conv2d(in_channels=384,out_channels=256,kernel_size=3,stride=1,padding=1),\n",
    "            nn.ReLU(),\n",
    "            nn.MaxPool2d(kernel_size=3, stride=2)  \n",
    "        )\n",
    "        \n",
    "        self.fully = nn.Sequential(\n",
    "            # fully1\n",
    "            nn.Linear(in_features=6*6*256,out_features=4096),\n",
    "            nn.ReLU(),\n",
    "            nn.Dropout(p=0.5)\n",
    "            \n",
    "            # fully2\n",
    "            nn.Linear(in_features=4096,out_features=4096),\n",
    "            nn.ReLU(),\n",
    "            nn.Dropout(p=0.5)\n",
    "            \n",
    "            # fully3\n",
    "            nn.Linear(in_features=4096,out_features=num_classes)  \n",
    "        )\n",
    "        \n",
    "    def forward(self,x):\n",
    "        x = self.conv(x)\n",
    "        x = torch.flatten(x)\n",
    "        x = self.fully(x)\n",
    "        \n",
    "        return x\n",
    "        "
   ]
  }
 ],
 "metadata": {
  "kernelspec": {
   "display_name": "Python 3",
   "language": "python",
   "name": "python3"
  },
  "language_info": {
   "codemirror_mode": {
    "name": "ipython",
    "version": 3
   },
   "file_extension": ".py",
   "mimetype": "text/x-python",
   "name": "python",
   "nbconvert_exporter": "python",
   "pygments_lexer": "ipython3",
   "version": "3.6.9"
  }
 },
 "nbformat": 4,
 "nbformat_minor": 4
}
